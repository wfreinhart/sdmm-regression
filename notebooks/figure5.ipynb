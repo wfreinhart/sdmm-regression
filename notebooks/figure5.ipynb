{
  "nbformat": 4,
  "nbformat_minor": 0,
  "metadata": {
    "colab": {
      "name": "sdmm-regression/figure5.ipynb",
      "provenance": [],
      "collapsed_sections": [],
      "mount_file_id": "1g5TkmCaXgbB53r2qd4q25tkxmaYfe3I8",
      "authorship_tag": "ABX9TyPBZ87v7c+8ZldudQCRskiE",
      "include_colab_link": true
    },
    "kernelspec": {
      "name": "python3",
      "display_name": "Python 3"
    },
    "language_info": {
      "name": "python"
    }
  },
  "cells": [
    {
      "cell_type": "markdown",
      "metadata": {
        "id": "view-in-github",
        "colab_type": "text"
      },
      "source": [
        "<a href=\"https://colab.research.google.com/github/wfreinhart/sdmm-regression/blob/main/notebooks/figure5.ipynb\" target=\"_parent\"><img src=\"https://colab.research.google.com/assets/colab-badge.svg\" alt=\"Open In Colab\"/></a>"
      ]
    },
    {
      "cell_type": "markdown",
      "source": [
        "# make chart from precomputed data file"
      ],
      "metadata": {
        "id": "fm4sBBrDZ-1i"
      }
    },
    {
      "cell_type": "markdown",
      "source": [
        "## load json"
      ],
      "metadata": {
        "id": "LSs4WMjRcRi4"
      }
    },
    {
      "cell_type": "code",
      "source": [
        "import numpy as np\n",
        "import json\n",
        "\n",
        "with open('metrics-sequence-vector.json', 'r') as fid:\n",
        "    metrics = json.load(fid)"
      ],
      "metadata": {
        "id": "vTL8vulTcUBA"
      },
      "execution_count": null,
      "outputs": []
    },
    {
      "cell_type": "markdown",
      "source": [
        "## draw charts"
      ],
      "metadata": {
        "id": "WTsjDutNcSkj"
      }
    },
    {
      "cell_type": "code",
      "source": [
        "import matplotlib\n",
        "from matplotlib import pyplot as plt\n",
        "import matplotlib.font_manager as font_manager\n",
        "sc = 1.5\n",
        "matplotlib.rcParams['font.family'] = 'Open Sans'  # the font name\n",
        "matplotlib.rcParams['font.size'] = 9*sc                   # the font size\n",
        "font_manager._rebuild()  # this is a hack to fix something in Google Colab"
      ],
      "metadata": {
        "id": "xA5KGwHKd6nm"
      },
      "execution_count": null,
      "outputs": []
    },
    {
      "cell_type": "code",
      "source": [
        "def create_bar_chart(metrics, metric_key):\n",
        "    # rearrange the data to easily compose the chart\n",
        "    chart_labels = [k for k, v in metrics.items()]\n",
        "    chart_data = {'train': [], 'test': []}\n",
        "    for short_name, these_scores in metrics.items():\n",
        "        this_dict = {key: [it[metric_key] for it in these_scores[key]] for key in ['train', 'test']}\n",
        "        for key in ['train', 'test']:\n",
        "            chart_data[key].append(this_dict[key])\n",
        "\n",
        "    keys = metrics.keys()\n",
        "\n",
        "    fig, ax = plt.subplots(figsize=(3.54*sc, 3.54*sc))\n",
        "    for i, s in enumerate(['train', 'test']):\n",
        "        if s == 'train':\n",
        "            mf = 'none'\n",
        "            h = '//'\n",
        "            a = 1.0\n",
        "        else:\n",
        "            mf = 'tab:blue'\n",
        "            h = ''\n",
        "            a = 0.8\n",
        "        mu = np.mean(chart_data[s], axis=1)\n",
        "        sigma = np.std(chart_data[s], axis=1)\n",
        "        ax.bar(np.arange(len(keys))+0.2*(2*i-1), mu, yerr=sigma, label=s, \n",
        "            facecolor=mf, alpha=a, hatch=h, \n",
        "            width=0.40, color='tab:blue', edgecolor='tab:blue', linewidth=1.5, capsize=4)\n",
        "    ax.set_xticks(np.arange(len(keys)))\n",
        "    short_keys = [key.split('.')[-1].split(\"'\")[0].replace(\"Regressor\", \"\").replace(\"Regression\", \"\") for key in keys]\n",
        "    j = np.argwhere([k == 'MLP' for k in short_keys])[0]\n",
        "    short_keys[int(j)] = 'MLP-1'\n",
        "    ax.set_xticklabels(short_keys, rotation=45, ha='right')\n",
        "    ax.legend()\n",
        "    if metric_key == 'rmse':\n",
        "        ax.set_ylim(0, 5)\n",
        "        ax.set_ylabel('RMSE')\n",
        "    elif metric_key == 'rsq':\n",
        "        ax.set_ylim(0, 1.01)\n",
        "        ax.set_ylabel('$R^2$')\n",
        "    fig.tight_layout()\n",
        "\n",
        "    return fig"
      ],
      "metadata": {
        "id": "_F-e0ObLdbVD"
      },
      "execution_count": null,
      "outputs": []
    },
    {
      "cell_type": "code",
      "source": [
        "fig = create_bar_chart(metrics, 'rmse')\n",
        "fig.savefig('fig5a.pdf', bbox_inches='tight', pad_inches=0.05)"
      ],
      "metadata": {
        "colab": {
          "base_uri": "https://localhost:8080/",
          "height": 401
        },
        "id": "YAD8LqeAfViY",
        "outputId": "cb018308-3524-4066-ea14-35611633545e"
      },
      "execution_count": null,
      "outputs": [
        {
          "output_type": "stream",
          "name": "stderr",
          "text": [
            "findfont: Font family ['Open Sans'] not found. Falling back to DejaVu Sans.\n"
          ]
        },
        {
          "output_type": "display_data",
          "data": {
            "text/plain": [
              "<Figure size 382.32x382.32 with 1 Axes>"
            ],
            "image/png": "[encoded data removed]"
          },
          "metadata": {
            "needs_background": "light"
          }
        }
      ]
    },
    {
      "cell_type": "code",
      "source": [
        "fig = create_bar_chart(metrics, 'rsq')\n",
        "fig.savefig('fig5b.pdf', bbox_inches='tight', pad_inches=0.05)"
      ],
      "metadata": {
        "colab": {
          "base_uri": "https://localhost:8080/",
          "height": 384
        },
        "id": "Qt3yENXZfzUT",
        "outputId": "2989d5a6-c113-48af-d50a-018337d9436d"
      },
      "execution_count": null,
      "outputs": [
        {
          "output_type": "display_data",
          "data": {
            "text/plain": [
              "<Figure size 382.32x382.32 with 1 Axes>"
            ],
            "image/png": "[encoded data removed]"
          },
          "metadata": {
            "needs_background": "light"
          }
        }
      ]
    },
    {
      "cell_type": "markdown",
      "source": [
        "# create json data file"
      ],
      "metadata": {
        "id": "0vQOjPLCZ7VY"
      }
    },
    {
      "cell_type": "markdown",
      "source": [
        "## load training data"
      ],
      "metadata": {
        "id": "9KxQW8mugHya"
      }
    },
    {
      "cell_type": "code",
      "execution_count": null,
      "metadata": {
        "id": "MIp3qAbgH_BB"
      },
      "outputs": [],
      "source": [
        "import numpy as np\n",
        "import json\n",
        "\n",
        "with open('data-10-folds.json', 'r') as fid:\n",
        "    buffer = json.load(fid)\n",
        "\n",
        "X = np.array(buffer['X'])\n",
        "y = np.array(buffer['y'])\n",
        "\n",
        "fold_data = []\n",
        "for fold in buffer['folds']:\n",
        "    train_index = np.array(fold['train'])\n",
        "    test_index = np.array(fold['test'])\n",
        "\n",
        "    trainX, testX = X[train_index], X[test_index]\n",
        "    trainy, testy = y[train_index], y[test_index]\n",
        "    \n",
        "    fold_data.append({'train': {'X': trainX, 'y': trainy},\n",
        "                      'test': {'X': testX, 'y': testy}\n",
        "                      })"
      ]
    },
    {
      "cell_type": "markdown",
      "source": [
        "## train models"
      ],
      "metadata": {
        "id": "PSpTvunEZ6W-"
      }
    },
    {
      "cell_type": "code",
      "source": [
        "from sklearn import linear_model\n",
        "from sklearn import neighbors\n",
        "from sklearn import ensemble\n",
        "from sklearn import neural_network\n",
        "\n",
        "models = [(linear_model.LinearRegression, dict()),\n",
        "          (linear_model.Lasso, dict()),\n",
        "          (linear_model.Ridge, dict()),\n",
        "          # (neighbors.KNeighborsRegressor, dict(n_neighbors=15, weights='distance')),\n",
        "          (neighbors.KNeighborsRegressor, dict()),\n",
        "          (ensemble.RandomForestRegressor, dict(random_state=0)),\n",
        "          (neural_network.MLPRegressor, dict(max_iter=2000, random_state=0)),\n",
        "          ]\n",
        "\n",
        "def train_model(model_def, this_data):\n",
        "\n",
        "    constructor, params = model_def\n",
        "    model = constructor(**params)\n",
        "\n",
        "    this_X = this_data['train']['X']\n",
        "    this_y = this_data['train']['y']\n",
        "\n",
        "    train_X = np.vstack([this_X, np.fliplr(this_X)])\n",
        "    train_y = np.vstack([this_y, this_y])\n",
        "\n",
        "    model.fit(train_X, train_y)\n",
        "\n",
        "    return model\n",
        "\n",
        "trained_models = {}\n",
        "for model_def in models:\n",
        "    constructor, params = model_def\n",
        "    short_name = str(constructor).split(\"'>\")[0].split('.')[-1]\n",
        "    these_models = []\n",
        "    for i, this_data in enumerate(fold_data):\n",
        "        model = train_model(model_def, this_data)\n",
        "        these_models.append(model)    \n",
        "    trained_models[short_name] = these_models"
      ],
      "metadata": {
        "id": "Q6f5bPqmIIe2"
      },
      "execution_count": null,
      "outputs": []
    },
    {
      "cell_type": "markdown",
      "source": [
        "### save models"
      ],
      "metadata": {
        "id": "oOdZvNh6Z3--"
      }
    },
    {
      "cell_type": "code",
      "source": [
        "import pickle\n",
        "\n",
        "with open('models-sklearn-sequence-vector.pkl', 'wb') as fid:\n",
        "    pickle.dump(trained_models, fid)"
      ],
      "metadata": {
        "id": "zjLEtPGPXYz1"
      },
      "execution_count": null,
      "outputs": []
    },
    {
      "cell_type": "markdown",
      "source": [
        "## test models"
      ],
      "metadata": {
        "id": "ewIYdFF_Z1d8"
      }
    },
    {
      "cell_type": "code",
      "source": [
        "def test_model(model, this_data):\n",
        "    test_X = this_data['X']\n",
        "    test_y = this_data['y']\n",
        "\n",
        "    # forward sequences\n",
        "    pred_z_fwd = model.predict(test_X)\n",
        "\n",
        "    # reverse sequences\n",
        "    pred_z_rev = model.predict(np.fliplr(test_X))\n",
        "\n",
        "    # get residual from averarage of the two predictions\n",
        "    residual = 0.5*(pred_z_fwd + pred_z_rev) - test_y\n",
        "\n",
        "    # compute rmse from residual\n",
        "    rmse_avg = np.sqrt(np.mean(residual**2))\n",
        "\n",
        "    # compute Rsq from explained variance\n",
        "    rsq = 1 - np.var(residual) / np.var(test_y)\n",
        "\n",
        "    return {'rmse': rmse_avg, 'rsq': rsq}\n",
        "\n",
        "\n",
        "metrics = {}\n",
        "for short_name, these_models in trained_models.items():\n",
        "    constructor, params = model_def\n",
        "    metrics[short_name] = {}\n",
        "    for key in ['test', 'train']:\n",
        "        these_scores = []\n",
        "        for i, this_data in enumerate(fold_data):\n",
        "            model = these_models[i]\n",
        "            score = test_model(model, this_data[key])\n",
        "            these_scores.append(score)\n",
        "        metrics[short_name][key] = these_scores"
      ],
      "metadata": {
        "id": "r5roR5Q6W0sB"
      },
      "execution_count": null,
      "outputs": []
    },
    {
      "cell_type": "markdown",
      "source": [
        "### look at results"
      ],
      "metadata": {
        "id": "M_QFWbYhb40o"
      }
    },
    {
      "cell_type": "code",
      "source": [
        "for short_name, these_scores in metrics.items():\n",
        "    train, test = [[it['rmse'] for it in these_scores[key]] for key in ['train', 'test']]\n",
        "    print(f'{short_name:25s} {np.mean(train):.3f} +/- {np.std(train):.3f} ; {np.mean(test):.3f} +/- {np.std(test):.3f}')"
      ],
      "metadata": {
        "colab": {
          "base_uri": "https://localhost:8080/"
        },
        "id": "Vk1CqMEsb2DB",
        "outputId": "503a64f9-a23a-4cf2-eaf0-8db2b65b4dce"
      },
      "execution_count": null,
      "outputs": [
        {
          "output_type": "stream",
          "name": "stdout",
          "text": [
            "LinearRegression          4.154 +/- 0.016 ; 4.169 +/- 0.139\n",
            "Lasso                     4.759 +/- 0.015 ; 4.759 +/- 0.134\n",
            "Ridge                     4.153 +/- 0.015 ; 4.171 +/- 0.139\n",
            "KNeighborsRegressor       0.087 +/- 0.011 ; 3.336 +/- 0.114\n",
            "RandomForestRegressor     0.965 +/- 0.005 ; 2.592 +/- 0.058\n",
            "MLPRegressor              1.468 +/- 0.058 ; 1.983 +/- 0.053\n"
          ]
        }
      ]
    },
    {
      "cell_type": "markdown",
      "source": [
        "## save metrics to json"
      ],
      "metadata": {
        "id": "USKF1GynUwo0"
      }
    },
    {
      "cell_type": "code",
      "source": [
        "import json\n",
        "\n",
        "with open('metrics-sequence-vector.json', 'w') as fid:\n",
        "    json.dump(metrics, fid)"
      ],
      "metadata": {
        "id": "-4evpnhkJoiY"
      },
      "execution_count": null,
      "outputs": []
    },
    {
      "cell_type": "markdown",
      "source": [
        "## compute predictions on test data for all folds"
      ],
      "metadata": {
        "id": "q23f_rfpiJEe"
      }
    },
    {
      "cell_type": "code",
      "source": [
        "def get_predictions(model, this_data):\n",
        "\n",
        "    test_X = this_data['test']['X']\n",
        "    test_y = this_data['test']['y']\n",
        "\n",
        "    # forward sequences\n",
        "    pred_z_fwd = model.predict(test_X)\n",
        "\n",
        "    # reverse sequences\n",
        "    pred_z_rev = model.predict(np.fliplr(test_X))\n",
        "\n",
        "    # get residual from averarage of the two predictions\n",
        "    pred_z_avg = 0.5*(pred_z_fwd + pred_z_rev)\n",
        "\n",
        "    return pred_z_avg\n",
        "\n",
        "\n",
        "predictions = {}\n",
        "for short_name, these_models in trained_models.items():\n",
        "    constructor, params = model_def\n",
        "    predictions[short_name] = []\n",
        "    for i, this_data in enumerate(fold_data):\n",
        "        model = these_models[i]\n",
        "        out = get_predictions(model, this_data)\n",
        "        predictions[short_name].append(out.tolist())"
      ],
      "metadata": {
        "id": "KkL1oTHziuw_"
      },
      "execution_count": null,
      "outputs": []
    },
    {
      "cell_type": "markdown",
      "source": [
        "### save predictions to json"
      ],
      "metadata": {
        "id": "420is3F2jYTy"
      }
    },
    {
      "cell_type": "code",
      "source": [
        "import json\n",
        "\n",
        "with open('predictions-sequence-vector.json', 'w') as fid:\n",
        "    json.dump(predictions, fid)"
      ],
      "metadata": {
        "id": "vlSiLJckjcl_"
      },
      "execution_count": null,
      "outputs": []
    },
    {
      "cell_type": "code",
      "source": [
        "import os\n",
        "import joblib\n",
        "\n",
        "drive_prefix = 'drive/Shareddrives/Polymers-Data'\n",
        "L = 8\n",
        "all_evals = joblib.load(os.path.join(drive_prefix, 'models', f'metrics-L{L}.jbl'))"
      ],
      "metadata": {
        "id": "PbcNRidMiKB2"
      },
      "execution_count": null,
      "outputs": []
    },
    {
      "cell_type": "code",
      "source": [
        ""
      ],
      "metadata": {
        "id": "jfpbxJ_hiTr1"
      },
      "execution_count": null,
      "outputs": []
    }
  ]
}