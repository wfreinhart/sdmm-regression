{
  "nbformat": 4,
  "nbformat_minor": 0,
  "metadata": {
    "colab": {
      "name": "sdmm-regression/figure7.ipynb",
      "provenance": [],
      "collapsed_sections": [],
      "mount_file_id": "1Q5AnNTvliOT_utYQqDjqhBtuaR2BKcai",
      "authorship_tag": "ABX9TyMLF6CGCkuN3hT7qANPk83c",
      "include_colab_link": true
    },
    "kernelspec": {
      "name": "python3",
      "display_name": "Python 3"
    },
    "language_info": {
      "name": "python"
    }
  },
  "cells": [
    {
      "cell_type": "markdown",
      "metadata": {
        "id": "view-in-github",
        "colab_type": "text"
      },
      "source": [
        "<a href=\"https://colab.research.google.com/github/wfreinhart/sdmm-regression/blob/main/notebooks/figure7.ipynb\" target=\"_parent\"><img src=\"https://colab.research.google.com/assets/colab-badge.svg\" alt=\"Open In Colab\"/></a>"
      ]
    },
    {
      "cell_type": "markdown",
      "source": [
        "# make chart from precomputed data file"
      ],
      "metadata": {
        "id": "--uwSG6y1vv3"
      }
    },
    {
      "cell_type": "markdown",
      "source": [
        "## load json"
      ],
      "metadata": {
        "id": "eeUiRLQj5D8_"
      }
    },
    {
      "cell_type": "code",
      "execution_count": null,
      "metadata": {
        "id": "MHWwo3BWb_KW"
      },
      "outputs": [],
      "source": [
        "import numpy as np\n",
        "import json\n",
        "\n",
        "all_metrics = {'Seq': {}}\n",
        "for file_key in ['metrics-sequence-vector.json', 'metrics-dnn.json']:\n",
        "    with open(file_key, 'r') as fid:\n",
        "        this_metrics = json.load(fid)\n",
        "    for k, v in this_metrics.items():\n",
        "        all_metrics['Seq'][k] = v\n",
        "with open('metrics-kmers.json', 'r') as fid:\n",
        "    token_metrics = json.load(fid)\n",
        "for L, this_metrics in token_metrics.items():\n",
        "    all_metrics[L] = this_metrics"
      ]
    },
    {
      "cell_type": "markdown",
      "source": [
        "## read best results"
      ],
      "metadata": {
        "id": "WXc-HK5J6-kl"
      }
    },
    {
      "cell_type": "code",
      "source": [
        "metric_key = 'rmse'\n",
        "best_metrics_key = {}\n",
        "for short_name in all_metrics['Seq'].keys():\n",
        "    this_metrics = {}\n",
        "    for key in all_metrics.keys():\n",
        "        if short_name in all_metrics[key]:\n",
        "            this_metrics[key] = np.mean([it[metric_key] for it in all_metrics[key][short_name]['test']])\n",
        "    best_val = np.min(list(this_metrics.values()))\n",
        "    best_key = [k for k, v in this_metrics.items() if v == best_val][0]\n",
        "    best_metrics_key[short_name] = best_key\n",
        "\n",
        "best_metrics = {}\n",
        "for short_name in all_metrics['Seq'].keys():\n",
        "    best_metrics[short_name] = all_metrics[best_metrics_key[short_name]][short_name]"
      ],
      "metadata": {
        "id": "AEg53oL58iFN"
      },
      "execution_count": null,
      "outputs": []
    },
    {
      "cell_type": "code",
      "source": [
        "for key in ['RNN', 'MLP-12', 'CNN', 'MLPRegressor', 'Ridge']:\n",
        "    vals = [it['rmse'] for it in best_metrics[key]['test']]\n",
        "    print(key, np.mean(vals), np.std(vals))"
      ],
      "metadata": {
        "colab": {
          "base_uri": "https://localhost:8080/"
        },
        "id": "M5T8vPClc9ZV",
        "outputId": "9ea4de6f-f7cc-4fb8-bac6-44469be6558d"
      },
      "execution_count": null,
      "outputs": [
        {
          "output_type": "stream",
          "name": "stdout",
          "text": [
            "RNN 1.407435983005784 0.09071761491331667\n",
            "MLP-12 1.7219231569660685 0.1577552616169461\n",
            "CNN 1.7468464094376188 0.1305497250261983\n",
            "MLPRegressor 1.9832761359361684 0.053380249731706964\n",
            "Ridge 2.478417512543627 0.1508916435703607\n"
          ]
        }
      ]
    },
    {
      "cell_type": "markdown",
      "source": [
        "## draw charts"
      ],
      "metadata": {
        "id": "WTsjDutNcSkj"
      }
    },
    {
      "cell_type": "code",
      "source": [
        "import matplotlib\n",
        "from matplotlib import pyplot as plt\n",
        "import matplotlib.font_manager as font_manager\n",
        "sc = 1.5\n",
        "matplotlib.rcParams['font.family'] = 'Open Sans'  # the font name\n",
        "matplotlib.rcParams['font.size'] = 9*sc                   # the font size\n",
        "font_manager._rebuild()  # this is a hack to fix something in Google Colab"
      ],
      "metadata": {
        "id": "xA5KGwHKd6nm"
      },
      "execution_count": null,
      "outputs": []
    },
    {
      "cell_type": "code",
      "source": [
        "def create_bar_chart(metrics, metric_key, labels=None):\n",
        "    # rearrange the data to easily compose the chart\n",
        "    chart_labels = [k for k, v in metrics.items()]\n",
        "    chart_data = {'train': [], 'test': []}\n",
        "    for short_name, these_scores in metrics.items():\n",
        "        this_dict = {key: [it[metric_key] for it in these_scores[key]] for key in ['train', 'test']}\n",
        "        for key in ['train', 'test']:\n",
        "            chart_data[key].append(this_dict[key])\n",
        "\n",
        "    keys = metrics.keys()\n",
        "\n",
        "    fig, ax = plt.subplots(figsize=(3.54*sc, 3.54*sc))\n",
        "    for i, s in enumerate(['train', 'test']):\n",
        "        if s == 'train':\n",
        "            mf = 'none'\n",
        "            h = '//'\n",
        "            a = 1.0\n",
        "        else:\n",
        "            mf = 'tab:blue'\n",
        "            h = ''\n",
        "            a = 0.8\n",
        "        mu = np.mean(chart_data[s], axis=1)\n",
        "        sigma = np.std(chart_data[s], axis=1)\n",
        "        ax.bar(np.arange(len(keys))+0.2*(2*i-1), mu, yerr=sigma, label=s, \n",
        "            facecolor=mf, alpha=a, hatch=h, \n",
        "            width=0.40, color='tab:blue', edgecolor='tab:blue', linewidth=1.5, capsize=4)\n",
        "        \n",
        "        if labels is not None and s == 'test':\n",
        "            for j, k in enumerate(keys):\n",
        "                best_label = labels[k]\n",
        "                if best_label != 'Seq':\n",
        "                    best_label = f\"$k={best_label}$\"\n",
        "                if '10' in best_label:\n",
        "                    offs = 0.10\n",
        "                else:\n",
        "                    offs = 0\n",
        "                ax.text(j+offs, mu[j]+sigma[j]+0.10, best_label, ha='center')\n",
        "                # print(j, mu[j]+sigma[j]+0.05, best_label)\n",
        "\n",
        "    ax.set_xticks(np.arange(len(keys)))\n",
        "    short_keys = [key.split('.')[-1].split(\"'\")[0].replace(\"Regressor\", \"\").replace(\"Regression\", \"\")  for key in keys]\n",
        "    j = np.argwhere([k == 'MLP' for k in short_keys])[0]\n",
        "    short_keys[int(j)] = 'MLP-1'\n",
        "    ax.set_xticklabels(short_keys, rotation=45, ha='right')\n",
        "    ax.legend()\n",
        "    if metric_key == 'rmse':\n",
        "        ax.set_ylim(0, 5)\n",
        "        ax.set_ylabel('RMSE')\n",
        "    elif metric_key == 'rsq':\n",
        "        ax.set_ylim(0, 1.01)\n",
        "        ax.set_ylabel('$R^2$')\n",
        "    fig.tight_layout()\n",
        "\n",
        "    return fig"
      ],
      "metadata": {
        "id": "_F-e0ObLdbVD"
      },
      "execution_count": null,
      "outputs": []
    },
    {
      "cell_type": "code",
      "source": [
        "fig = create_bar_chart(best_metrics, 'rmse', labels=best_metrics_key)\n",
        "fig.savefig('fig8.pdf', bbox_inches='tight', pad_inches=0.05)"
      ],
      "metadata": {
        "colab": {
          "base_uri": "https://localhost:8080/",
          "height": 384
        },
        "id": "YAD8LqeAfViY",
        "outputId": "ffbe8754-2a55-4cc5-b661-84dfd9e31c98"
      },
      "execution_count": null,
      "outputs": [
        {
          "output_type": "display_data",
          "data": {
            "text/plain": [
              "<Figure size 382.32x382.32 with 1 Axes>"
            ],
            "image/png": "[encoded data removed]"
          },
          "metadata": {
            "needs_background": "light"
          }
        }
      ]
    },
    {
      "cell_type": "markdown",
      "source": [
        "# create json data file"
      ],
      "metadata": {
        "id": "tWXoz7111yIC"
      }
    },
    {
      "cell_type": "markdown",
      "source": [
        "## training data"
      ],
      "metadata": {
        "id": "KFzScvSN1_sF"
      }
    },
    {
      "cell_type": "code",
      "source": [
        "import numpy as np\n",
        "import pandas as pd\n",
        "import json\n",
        "\n",
        "with open('data-10-folds.json', 'r') as fid:\n",
        "    buffer = json.load(fid)\n",
        "\n",
        "X = np.array(buffer['X'])\n",
        "y = np.array(buffer['y'])\n",
        "\n",
        "fold_data = []\n",
        "for fold in buffer['folds']:\n",
        "    train_index = np.array(fold['train'])\n",
        "    test_index = np.array(fold['test'])\n",
        "\n",
        "    trainX, testX = X[train_index], X[test_index]\n",
        "    trainy, testy = y[train_index], y[test_index]\n",
        "    \n",
        "    fold_data.append({'train': {'X': trainX, 'y': trainy},\n",
        "                      'test': {'X': testX, 'y': testy}\n",
        "                      })"
      ],
      "metadata": {
        "id": "Suy8YT6l1y-D"
      },
      "execution_count": null,
      "outputs": []
    },
    {
      "cell_type": "markdown",
      "source": [
        "## DNN models"
      ],
      "metadata": {
        "id": "UL7b-NU82A0T"
      }
    },
    {
      "cell_type": "code",
      "source": [
        "import os\n",
        "import torch\n",
        "\n",
        "\n",
        "def test_dnn_model(model, this_data):\n",
        "\n",
        "    testy = this_data['y']\n",
        "    if 'MLP' in model.original_name:  # for MLP\n",
        "        testX = torch.tensor(this_data['X'], dtype=torch.float)\n",
        "    elif 'CNN' in model.original_name:  # for CNN: \n",
        "        testX = torch.tensor(this_data['X'], dtype=torch.float).unsqueeze(1)\n",
        "    elif 'GRU' in model.original_name:  # for RNN: \n",
        "        testX = torch.tensor(this_data['X'], dtype=torch.float).unsqueeze(2)\n",
        "\n",
        "    # forward sequences\n",
        "    pred_z_fwd = model(testX).detach().numpy()\n",
        "    rmse_fwd = np.sqrt(np.mean((pred_z_fwd - testy)**2))\n",
        "\n",
        "    # reverse sequences\n",
        "    pred_z_rev = model(torch.fliplr(testX)).detach().numpy()\n",
        "    rmse_rev = np.sqrt(np.mean((pred_z_rev - testy)**2))\n",
        "\n",
        "    # get residual from averarage of the two predictions\n",
        "    residual = 0.5*(pred_z_fwd + pred_z_rev) - testy\n",
        "\n",
        "    # compute rmse from residual\n",
        "    rmse_avg = np.sqrt(np.mean(residual**2))\n",
        "\n",
        "    # compute Rsq from explained variance\n",
        "    rsq = 1 - np.var(residual) / np.var(testy)\n",
        "\n",
        "    return {'rmse': rmse_avg, 'rsq': rsq}\n",
        "\n",
        "\n",
        "drive_prefix = 'drive/Shareddrives/Polymers-Data'\n",
        "\n",
        "model_names = {'mlp-opt-cv10-sym': 'MLP-12',\n",
        "               'cnn-opt-cv10-sym': 'CNN',\n",
        "               'gru-opt-cv10-sym': 'RNN',\n",
        "               }\n",
        "\n",
        "metrics = {}\n",
        "for long_name in model_names:\n",
        "    print(f'Evaluating {long_name}...')\n",
        "    model_path = os.path.join(drive_prefix, 'models', long_name)\n",
        "    short_name = model_names[long_name]\n",
        "    metrics[short_name] = {}\n",
        "    for key in ['test', 'train']:\n",
        "        these_scores = []\n",
        "        for i, this_data in enumerate(fold_data):\n",
        "            model = torch.jit.load(os.path.join(model_path, f'fold-{i:02d}-scripted.pt'), map_location='cpu')\n",
        "            model.eval()\n",
        "\n",
        "            score = test_dnn_model(model, this_data[key])\n",
        "            these_scores.append(score)\n",
        "\n",
        "        metrics[short_name][key] = these_scores"
      ],
      "metadata": {
        "colab": {
          "base_uri": "https://localhost:8080/"
        },
        "id": "uI_bx_ww2BQg",
        "outputId": "dc421e34-2706-49d3-9f07-804379b1b324"
      },
      "execution_count": null,
      "outputs": [
        {
          "output_type": "stream",
          "name": "stdout",
          "text": [
            "Evaluating mlp-opt-cv10-sym...\n",
            "Evaluating cnn-opt-cv10-sym...\n",
            "Evaluating gru-opt-cv10-sym...\n"
          ]
        }
      ]
    },
    {
      "cell_type": "code",
      "source": [
        "import json\n",
        "\n",
        "with open('metrics-dnn.json', 'w') as fid:\n",
        "    json.dump(metrics, fid)"
      ],
      "metadata": {
        "id": "i7aT3MjU4U61"
      },
      "execution_count": null,
      "outputs": []
    }
  ]
}